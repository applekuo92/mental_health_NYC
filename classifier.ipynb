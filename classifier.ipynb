{
 "cells": [
  {
   "cell_type": "code",
   "execution_count": 31,
   "metadata": {
    "collapsed": false
   },
   "outputs": [],
   "source": [
    "from nltk.tokenize import RegexpTokenizer\n",
    "from nltk.corpus import stopwords\n",
    "from nltk.stem.porter import PorterStemmer\n",
    "from gensim import corpora, models\n",
    "import gensim\n",
    "import praw\n",
    "from scipy.sparse import csr_matrix\n",
    "from sklearn.externals import joblib\n",
    "from sklearn.linear_model import LogisticRegression"
   ]
  },
  {
   "cell_type": "code",
   "execution_count": 6,
   "metadata": {
    "collapsed": true
   },
   "outputs": [],
   "source": [
    "tokenizer = RegexpTokenizer(r'[a-zA-Z]+')\n",
    "# create English stop words list\n",
    "en_stop = set(stopwords.words('english'))\n",
    "# Create p_stemmer of class PorterStemmer\n",
    "p_stemmer = PorterStemmer()"
   ]
  },
  {
   "cell_type": "code",
   "execution_count": 12,
   "metadata": {
    "collapsed": false
   },
   "outputs": [],
   "source": [
    "# get posts from a subreddit\n",
    "user_agent = (\"Mental Health 1.0 by /u/kakakuo \")\n",
    "r = praw.Reddit(user_agent=user_agent)\n",
    "subreddit_name = 'NewYork'\n",
    "# get all submissions of subreddit \n",
    "submissions = r.get_subreddit(subreddit_name).get_top_from_all(limit = 1000)\n",
    "# go through all submissions\n",
    "corpus_list = []\n",
    "for submission in submissions:\n",
    "    if submission.selftext:\n",
    "        corpus_list.append(submission.selftext)"
   ]
  },
  {
   "cell_type": "code",
   "execution_count": 42,
   "metadata": {
    "collapsed": true
   },
   "outputs": [],
   "source": [
    "for (N,i) in enumerate(corpus_list):\n",
    "    f = open(subreddit_name + '/corpus_'+str(N),'w')\n",
    "    f.write(i.encode('utf-8').strip())\n",
    "    f.close()"
   ]
  },
  {
   "cell_type": "code",
   "execution_count": 18,
   "metadata": {
    "collapsed": false
   },
   "outputs": [],
   "source": [
    "# list for tokenized documents in loop\n",
    "texts = []\n",
    "# loop through document list\n",
    "for i in corpus_list:\n",
    "    # clean and tokenize document string\n",
    "    raw = i.lower()\n",
    "    tokens = tokenizer.tokenize(raw)\n",
    "    # remove stop words from tokens\n",
    "    stopped_tokens = [i for i in tokens if not i in en_stop and len(i)>2]\n",
    "    # stem tokens\n",
    "    stemmed_tokens = [p_stemmer.stem(i) for i in stopped_tokens]\n",
    "    # add tokens to list\n",
    "    texts.append(stemmed_tokens)\n",
    "dictionary = corpora.Dictionary.load('BoW.dict')\n",
    "corpus = [dictionary.doc2bow(text) for text in texts]"
   ]
  },
  {
   "cell_type": "code",
   "execution_count": 25,
   "metadata": {
    "collapsed": false
   },
   "outputs": [],
   "source": [
    "data = []\n",
    "row = []\n",
    "col = []\n",
    "for (N,c) in enumerate(corpus):\n",
    "    for i in c:\n",
    "        data.append(i[1])\n",
    "        row.append(N)\n",
    "        col.append(i[0])\n",
    "BoW_feature = csr_matrix((data,(row,col)),shape=(len(corpus),len(dictionary.keys()))).toarray()"
   ]
  },
  {
   "cell_type": "code",
   "execution_count": 27,
   "metadata": {
    "collapsed": false
   },
   "outputs": [],
   "source": [
    "ldamodel = gensim.models.ldamodel.LdaModel.load('lda20.model')"
   ]
  },
  {
   "cell_type": "code",
   "execution_count": 28,
   "metadata": {
    "collapsed": true
   },
   "outputs": [],
   "source": [
    "doc_lda = ldamodel[corpus]\n",
    "data = []\n",
    "row = []\n",
    "col = []\n",
    "for (N,doc) in enumerate(doc_lda):\n",
    "    for i in doc:\n",
    "        data.append(i[1])\n",
    "        row.append(N)\n",
    "        col.append(i[0])\n",
    "LDA_feature = csr_matrix((data,(row,col))).toarray()"
   ]
  },
  {
   "cell_type": "code",
   "execution_count": 30,
   "metadata": {
    "collapsed": false
   },
   "outputs": [],
   "source": [
    "whole_feature = numpy.hstack((BoW_feature,LDA_feature))"
   ]
  },
  {
   "cell_type": "code",
   "execution_count": 40,
   "metadata": {
    "collapsed": true
   },
   "outputs": [],
   "source": [
    "model = joblib.load('logistic_regression.model')\n",
    "p = model.predict(whole_feature)"
   ]
  },
  {
   "cell_type": "code",
   "execution_count": 44,
   "metadata": {
    "collapsed": false
   },
   "outputs": [
    {
     "name": "stdout",
     "output_type": "stream",
     "text": [
      "***************corpus 0*****************\n",
      "It really feels like most posts to this sub are not by people who subscribe to it, but rather visitors confusing it with /r/nyc.\n",
      "***************corpus 2*****************\n",
      "So I recently watched AllTime10's video of their creepiest websites and their #1 was about Surveillance Sites. Now, I've seen these before but I usually watch the ones like EarthCam. But upon looking through these cams of one of these sites, I've discovered something disturbing: The security cameras of your kindergartens and daycares are being streamed **live** over the internet for anyone to see.\n",
      "\n",
      "I recently found [this one](https://www.reddit.com/r/Michigan/comments/3g2z4q/anyone_here_live_in_climax_michigan/) and was able to find them, as well as two others which I've also contacted, but there are a few I can't find.\n",
      "\n",
      "Can you help me find this one? Here are some screenshots of the feed (I've blacked out the faces of the children):\n",
      "\n",
      "* [Screenshot #1](http://i.imgur.com/1iF65eu.png?2)\n",
      "\n",
      "* [Screenshot #2](http://i.imgur.com/S8syy78.png?3)\n",
      "\n",
      "* [Screenshot #3](http://i.imgur.com/A3TUfN3.png?2)\n",
      "\n",
      "I won't post the link to the stream but if you live in southern New York and you recognize this daycare/kindergaten center, can you please tell me who they are? Do they have a website? Is there a phone number or a way to contact them? I feel like they need to be made aware of this.\n",
      "\n",
      "Now, I know you might suggest I tell the police, but who, exactly, do I tell? And how sure are you something will be done about it?\n",
      "\n",
      "Thank you for any help.\n",
      "\n",
      "Edit: I know it may sound strange to some of you, but I'm actually trying to help. I've already contacted Bullfrogs & Butterflies in Michigan, The Growing Years in Burlington and Angel Academy in Illinois via telephone (and was hung up on twice, but I can't really blame them).\n",
      "\n",
      "These daycares and preschools are **completely unaware** their cameras are being live streamed and we can safely assume neither do any of the parents of the children. If you recognize this daycare, you can either contact them yourself (I will provide the info on the stream once you've proven you're really who you say you are, etc.) or you can help me by DM'ing me their website/number and I will call them myself.\n",
      "\n",
      "Either way, they deserve to know.\n",
      "***************corpus 10*****************\n",
      "I am a grad student and I was recently diagnosed with  depression and anxiety disorder. I was at the lowest point at my life and my parents suggested me to travel somewhere and take some time off studies. Decided to travel to NYC and wow, what an experience. This city is a gem. So diverse, so very inspiring. The city has had its ups and downs but one thing this city has in bundles is its never give up attitude and Inspiration in each of its people. To NYC, thank you for cheering me up this new year. Never change and continue to be this city of inspiration. \n",
      "\n",
      "Much love and a Happy New Year. \n",
      "***************corpus 16*****************\n",
      "Most people have that one friend that is truly unselfish, always positive and such a joy to be around.  My friend Fidel is that guy. A struggling photographer for the past few years, he just recently landed a new job and needed to find a place somewhat close by so he could make it to work.  A few weeks ago he moved into a new apartment with some 'friends of friends'.  It all started good.....but then one day....after a couple weeks, they literally stole all his stuff, changed the locks and wouldn't let him back in.  They said he couldn't get even one change of clothes (let alone his computer) unless he paid a HUGE amount in the thousands.  He was being extorted.  Police were called but said they couldn't help, it was his word against theirs.\n",
      "\n",
      "Fast-forward to last week. Former roomies start logging into his social accounts on his computer and start posting bogus and highly derogatory stuff.  THEN this weekend they call his employer and say he's a drug dealer and the workplace is about to get shot up, so his employer (which just hired him two weeks ago) had to let him go due to safety concerns.\n",
      "\n",
      "He lost his money, his computer, his clothes, his job, his place to live, every photo and video he took/made over the past 5 years, and most likely his will to push on.  All because of these evil f****.  I'm curious if Reddit could somehow help him?  I almost don't know where to turn to myself.....but I really, really want to believe Reddit is the place where you can make a wrong a right, even though I don't know what that really is right now.  He doesn't deserve this.\n",
      "***************corpus 25*****************\n",
      "I am the father of a six year old whose life is getting lost in a trileptal and depicote haze, and which has done little to nothing to effect his near hourly atonic seizures and near daily tonic seizures. I am not saying that MMJ will elevate his seizures but after seeing all the anecdotal reports I would at least like to try. I doubt he will be any worse than the depecote fog he walks around in all day anyway.\n",
      "\n",
      "After mentioning the idea to his neurologist he kindly wrote it off essentially saying the jury is not out yet. Plus there is a lot of work involved for him to even prescribe it so I am sure he is not too keen on that. (If you know of a neurologist that is certified to prescribe MMJ in NYS or is at least interested please let me know. We live a train ride away from NYC.)\n",
      "\n",
      "If you have the time please read these regulations and if you care please leave a comment. From what I can see these regulations are going to restrict care to those who need it more than any amount of abuse they might curtail.\n",
      "\n",
      "http://www.compassionatecareny.org/nystateofmmj/\n",
      "\n",
      "Thank you for your time.\n",
      "***************corpus 27*****************\n",
      "I'm not sure if this has been discussed before -- I didn't see anything in a quick history search -- but it seems like at least half the posts in here are about NYC and all of the comments are \"check r/nyc.\" \n",
      "\n",
      "I don't know the logisitics or anything, but maybe we could move to r/newyorkstate or anything better that you guys can think of.\n",
      "***************corpus 28*****************\n",
      "Please help. My older brother ran away from home (Massachusetts) on the morning of March 19. I heard a rumor that he could be in New York. This is the on,y picture of him I have [reddit!]http://imgur.com/ZxEwZQI . He's seventeen now, and has contacts. Other than that, he looks very similar. His name is Josh and we have no way of contacting him. This might be the wrong place, but I would just really like my brother back home and safe. Please PM me if you can find anything.\n",
      "\n",
      "Edit: Brother has been found! He says he is okay but isn't coming home. Thank you to those who tried!\n",
      "Edit2: Brother is home safe!\n",
      "***************corpus 31*****************\n",
      "Sure, we have the Adirondack MTS. but I think the foothills are absolutely stunning, especially in fall/winter. Does anyone else agree?\n",
      "***************corpus 33*****************\n",
      "So here is my current situation. I got into this huge arguement with my parents two months ago. Kind of a \"You can't tell me what to do!\" type argument because I turned 18 and wanted out. But despite my strong feelings I let things settle down and waited a month before I acted on anything. I still felt the same way so I told my parents I was leaving and simply left the next day.\n",
      "\n",
      "For some insight into why I left:\n",
      "\n",
      "I graduated high school early (when I was 16) because my ambitions were to study biology in college and later go to med school (4 years each not including residency which can range from 2-6 years for a total of like 8-10 years of my life) and I wanted a head start. My parents had other plans for me. They own a business and wanted me to take it over so they didn't allow me to go to college. \n",
      "\n",
      "Generally I don't consider myself to be a \"smart\" person but my ability to learn and adapt are what I think my strong suits are at the moment. Which leads me to the main question I have for you, what would you do if you were in my current situation?\n",
      "\n",
      "I like to make lists so here are some of my priorities:\n",
      "\n",
      "* Invest in my education\n",
      "* Part-time job\n",
      "* Build my credit\n",
      "* Rent an apartment/room/something I can live in. \n",
      "* Some form of community service (need references for jobs, other things)\n",
      "* Something with social interaction\n",
      "\n",
      "I have money saved up and it's enough to get started.\n",
      "\n",
      "Currently staying with my older sisters friend so I have a place to stay for another month or so.\n",
      "\n",
      "I feel like a toddler that got lost in walmart. Somewhat helpless and lost and I need a little guidance or a maybe just a kick in the right direction. I have no clue where to start.\n",
      "***************corpus 34*****************\n",
      "Hi /r/NewYork\n",
      "\n",
      "For some of us, tomorrow is going to be an awful day. I personally will be staying off of most kinds of media as I can't handle watching or hearing any of the footage from that day. I saw it all once and that was more than enough. \n",
      "\n",
      "I remember my high school going on lockdown as we watched our world end. We watched the smoke blacken the sky 40 miles away from the 3rd floor of the building. We wondered about our families and the families of our friends. We watched the news in our senior class's hang out room where we ran pirated Cable from the library. We watched as the second plane hit. We remember all too well. \n",
      "\n",
      "Tomorrow always hurts. For many it'll hurt far more than it does for me. \n",
      "\n",
      "We remember because we can never forget that trauma. We are thankful for those who risked and gave their lives. We support those who still suffer and we mourn the world that day brought us into. \n",
      "\n",
      "I felt a need to write something. 15 years later witnessing footage of that day tears at my soul. If anyone else needs to talk, PM me. \n",
      "\n",
      "Peace be with all of you.\n",
      "***************corpus 35*****************\n",
      "I found it today, February 27th on the PATH train from 14th Street to JSQ at around 7:50 PM. I saw the crowd of people walk on and then noticed a DS holder with a giant pokeball on it, it looks new so I assumed the owner got it at the Nintendo store today. Before I could get anyone's attention the train left. If you lost it, or know someone who lost it today PLEASE contact me! I like in Hoboken but I would gladly mail it back to its rightful owner!\n",
      "\n",
      "EDIT]:The owner has been contacted, thank you for the people who told me to check the friend code. Through this I found her tumblr where she has it posted. The tumblr has the same name as the Nintendo account and I have messaged her to arrange a return! Thank you so much for your help Reddit!\n",
      "***************corpus 50*****************\n",
      "I'm not from NY but when ever I watch movie or tv series that base in NY there will always be scaffolding every where, seem like there's always unfinished construction going on around the city. I don't remember seeing these in other cities (in the movies). Now when ever I see these scaffolding in movie or show I immediately think this is NYC. \n",
      "\n",
      "Is it really like this over there ? are they building thing along the side walk everywhere at all time ? \n",
      "***************corpus 56*****************\n",
      "I'm not sure if there are still more festivals going on, but just a fun post to share how you did.  I got a 98 on my All State Bass 2 solo\n",
      "***************corpus 64*****************\n",
      "Hey! So I will be driving back to NYC from Toronto this weekend. Since this is a ~9 hour drive, I was hoping to have a midway pitstop where I could spend the night and explore a bit. That said, I know nothing about the upstate NY area and would love some suggestions on where I should go? Syracuse? Albany? Cabin in the woods? Not sure what the possibilities even are. Thanks in advance! :)\n",
      "\n",
      "x-posted to /r/AskNYC \n",
      "***************corpus 80*****************\n",
      "Hey all,\n",
      "\n",
      "I know it's not really upstate if you're an hour or two north of Manhattan, but I was just curious if anyone could suggest some good ideas of where to go apple picking outside of NYC (preferably not too far of a drive, near some scenic mountains or something).\n",
      "\n",
      "I'd like to make a nice day out of it - pick apples, hit a good restaurant, have a nice day with my wife and our parents.\n",
      "\n",
      "Thanks!\n",
      "***************corpus 84*****************\n",
      "My mom keeps mentioning this new law that states that if the driver even TOUCHES their cellphone while behind the wheel they can get a ticket.  I can't find anything about it.  \n",
      "\n",
      "Anyone have any knowledge of this?\n",
      "***************corpus 87*****************\n",
      "http://www.wktv.com/news/valley-shooting/Valley-Shooting-Spree-Timeline-of-Events-197883231.html  They still have not gotten this guy!\n",
      "\n",
      "Edit: 5 am and waiting to hear update.  As far as I know they still don't have this guy in custody.  \n",
      "\n",
      "Edit: 8 am it is being reported that the suspect is dead, after shooting a k-9 dog.  \n"
     ]
    }
   ],
   "source": [
    "f_result = open(subreddit_name + '/result','w')\n",
    "for (N,i) in enumerate(p):\n",
    "    if i == 1:\n",
    "        print \"***************corpus \" + str(N) + \"*****************\"\n",
    "        print corpus_list[N]\n",
    "        f_result.write(\"***************corpus \" + str(N) + \"*****************\\n\")\n",
    "        f_result.write(corpus_list[N])\n",
    "        f_result.write('\\n')"
   ]
  },
  {
   "cell_type": "code",
   "execution_count": null,
   "metadata": {
    "collapsed": true
   },
   "outputs": [],
   "source": []
  }
 ],
 "metadata": {
  "kernelspec": {
   "display_name": "Python 2",
   "language": "python",
   "name": "python2"
  },
  "language_info": {
   "codemirror_mode": {
    "name": "ipython",
    "version": 2
   },
   "file_extension": ".py",
   "mimetype": "text/x-python",
   "name": "python",
   "nbconvert_exporter": "python",
   "pygments_lexer": "ipython2",
   "version": "2.7.10"
  }
 },
 "nbformat": 4,
 "nbformat_minor": 0
}
