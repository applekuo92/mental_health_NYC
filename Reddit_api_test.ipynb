{
 "cells": [
  {
   "cell_type": "markdown",
   "metadata": {},
   "source": [
    "# Use PRAW to scrape Reddit Data"
   ]
  },
  {
   "cell_type": "markdown",
   "metadata": {},
   "source": [
    "<p>Reddit has very powerful APIs, and PRAW is a wonderful reddit API wrapper in Python. We could use PRAW to get all submissions of a specific subreddit and scraping it. In fact, most posts are images or vedios or url, and do not have a text included. To do analysis, we should focus on the posts including text. Also, the title, author and the post time should be scraped. </p>\n",
    "<p>Here, we use subreddit 'oddlydepressing' as an example. The process could be divided into following two steps:<p/>\n",
    "<li> Screen out all submissions including text, and get their title, text, and author.</li>\n",
    "<li> For each author, get all his submissions. This corpus could be used to predict the age of the author</li>"
   ]
  },
  {
   "cell_type": "code",
   "execution_count": 1,
   "metadata": {
    "collapsed": false
   },
   "outputs": [],
   "source": [
    "import praw\n",
    "user_agent = (\"Mental Health 1.0 by /u/kakakuo \")\n",
    "r = praw.Reddit(user_agent=user_agent)\n",
    "subreddit_name = 'oddlydepressing'\n",
    "# get all submissions of subreddit \n",
    "submissions = r.get_subreddit(subreddit_name).get_top_from_all(limit = 1000)\n",
    "# go through all submissions\n",
    "submit_list = []\n",
    "for submission in submissions:\n",
    "    if submission.selftext:\n",
    "        tmp = [submission.title,submission.selftext,submission.author]\n",
    "        submit_list.append(tmp)\n",
    "# get the author name and the posts of the author\n",
    "for submission in submit_list:\n",
    "    author = submission.pop()\n",
    "    if author:\n",
    "        submission.append(author._case_name)\n",
    "        corpus = \"\"\n",
    "        user_submits = author.get_submitted()\n",
    "        for user_submit in user_submits:\n",
    "            corpus += user_submit.selftext.strip()\n",
    "            corpus += \" \"\n",
    "        submission.append(corpus)\n",
    "    else:\n",
    "        submission.append(\"\")\n",
    "        submission.append(\"\")"
   ]
  },
  {
   "cell_type": "markdown",
   "metadata": {},
   "source": [
    "Here is the result. There are only 6 valids in this subreddit."
   ]
  },
  {
   "cell_type": "code",
   "execution_count": 2,
   "metadata": {
    "collapsed": false
   },
   "outputs": [
    {
     "name": "stdout",
     "output_type": "stream",
     "text": [
      "post 1:\n",
      "title: Hello?\n",
      "text: Is anyone out there?\n",
      "author: teamrocketgruntjosh\n",
      "\n",
      "\n",
      "post 2:\n",
      "title: Should /r/oddlydepressing join the Reddit Blackout? Let your voices be heard!\n",
      "text: To the 175 subscribers of this subreddit, should we do it? I hope you guys won't be oddly depressed about it.. But then that's what we're here for. \n",
      "author: callmeWia\n",
      "\n",
      "\n",
      "post 3:\n",
      "title: I don't have many people to call \"friends\" or \"best friends\"\n",
      "text: They'd have a sleepover with a group of people and not invite me. Time to be a hikikomori now... Jk I'm not Japanese \n",
      "author: \n",
      "\n",
      "\n",
      "post 4:\n",
      "title: Where is everyone? :(\n",
      "text: Come say hi! \n",
      "author: callmeWia\n",
      "\n",
      "\n",
      "post 5:\n",
      "title: Random sadness..\n",
      "text: I feel sadness right now and I don't know why. I started crying for no reason. What's wrong with me? \n",
      "author: netabell\n",
      "\n",
      "\n",
      "post 6:\n",
      "title: Helpless\n",
      "text: I'm 22 years old 5 kids I'm going crazy I feel like im all for me nobody cares about me but me I don't feel love I'm hopeless I so shame of myself I don't think god don't even want to see me im fat, ugly, and unwanted I don't think im wanted I feel left out I'm tired of crying every or day I'm tired of wanting more attention from others the only they probably notice is how fat I am 😭\n",
      "author: BeautifulMistakee\n",
      "\n",
      "\n"
     ]
    }
   ],
   "source": [
    "for (N,submit) in enumerate(submit_list):\n",
    "    print \"post \"+str(N+1) +\":\"\n",
    "    print \"title: \" + submit[0]\n",
    "    print \"text: \" + submit[1]\n",
    "    print \"author: \" + submit[2]\n",
    "    print \"\\n\""
   ]
  },
  {
   "cell_type": "markdown",
   "metadata": {},
   "source": [
    "Here is the corpus for all posts"
   ]
  },
  {
   "cell_type": "code",
   "execution_count": 3,
   "metadata": {
    "collapsed": false
   },
   "outputs": [
    {
     "name": "stdout",
     "output_type": "stream",
     "text": [
      "post 1:\n",
      " I know there's one for Spanish speakers, I'm just wondering if there's been any sort of discussion on developing one for English speakers.  Just looking for some new blogs to follow and curious to see what everyone here likes.   http://imgur.com/wjGMwsR\n",
      "\n",
      "I thought it was an interesting little bug, does anyone else see this?  [removed]   #ZenithMC\n",
      "\n",
      "*Can you and your faction members make it to the top?*\n",
      "\n",
      "ZenithMC is the newest Factions server on the block! We were founded with a simple goal; to provide a fun & friendly Factions experience! Whether you enjoy building, PvPing, buying & selling, or more, ZenithMC is the perfect choice!\n",
      "\n",
      "----------------------------------------------------------------------------------------------------------------------------------------------------\n",
      "#Server Address:  zenithmc.net\n",
      "\n",
      "#Subreddit: /r/zenithmc\n",
      "\n",
      "#Website: [ZenithMC](http://www.zenithmc.net)\n",
      "\n",
      "----------------------------------------------------------------------------------------------------------------------------------------------------\n",
      "\n",
      "#Rules\n",
      "\n",
      "**1.** Be mature. The staff has a sense of humour, but please no \"lol i'll fukn hak ur server m80, ur mum is fatter than my stackz\".\n",
      "\n",
      "**2.** Be respectful to the staff and other players. No DDoS or personal threats.\n",
      "\n",
      "**3.** Don't ask for staff or to be promoted. Fill out an application [here](http://zenithmc.net/staffapp) for that.\n",
      "\n",
      "**4.** Don't spam the chat.\n",
      "\n",
      "**5.** Cursing is perfectly fine as long as it is not disrespectful to other players.\n",
      "\n",
      "**6.** Bashing of race, sexual orientation, or religion is unacceptable.\n",
      "\n",
      "**7.** Essentially, just be nice to each other.\n",
      "\n",
      "----------------------------------------------------------------------------------------------------------------------------------------------------\n",
      "\n",
      "#Additional Information:\n",
      "\n",
      "Our server is currently looking for staff members to help maintain the server. Anyone of any age or location can apply, as long as you are dedicated and mature. If you would like to apply for a position as staff, you can either fill out an application on our website or PM me your application by answering these questions:\n",
      "\n",
      "**What is your IGN (In-Game Name)?**\n",
      "\n",
      "**What country do you live in? (and if the U.S., which state?)**\n",
      "\n",
      "**What is your age?**\n",
      "\n",
      "**What is your Time Zone?**\n",
      "\n",
      "**What is your Skype username?**\n",
      "\n",
      "**What is your past experience as Staff (on any server)?**\n",
      "\n",
      "**What would make you a good staff member?/Why should we pick you as a staff member?**\n",
      "\n",
      "----------------------------------------------------------------------------------------------------------------------------------------------------\n",
      "\n",
      "We hope you consider checking out our server!    In your music player of choice, put your entire library on shuffle and comment the first 5-10 that come up! \n",
      "\n",
      "I'll start:\n",
      "\n",
      "•Do the Evolution - Pearl Jame\n",
      "\n",
      "•Garden of Eden - Guns N' Roses\n",
      "\n",
      "•Charlie Brown - Coldplay\n",
      "\n",
      "•Tourette's - Nirvana \n",
      "\n",
      "•Major Minus - Coldplay\n",
      "\n",
      "•What I Got - Sublime\n",
      "\n",
      "•Mr. Mustache - Nirvana\n",
      "\n",
      "•Letterbomb - Green Day\n",
      "\n",
      "•Frances Farmer Will Have Her Revenge On Seattle - Nirvana\n",
      "\n",
      "•A World Alone - Lorde          \n",
      "\n",
      "\n",
      "post 2:\n",
      "  [This girl](http://vanniko.tumblr.com/post/133328872813/fuliweb8-%E9%BB%91%E8%A1%A3%E9%BB%91%E4%B8%9D%E5%B0%8F%E5%A6%9E%E5%92%AC%E7%9D%80%E9%BB%91%E8%83%B8%E7%BD%A9%E5%AF%B9%E4%BD%8F%E7%9B%B8%E6%9C%BA%E6%89%A3%E8%B1%86%E8%B1%86%E7%BA%A2%E5%AB%A9%E5%AB%A9%E7%9A%84%E7%9A%AE%E8%82%A4%E7%9C%9F%E6%BB%91). \n",
      "\n",
      "Thanks.  Hey Edwin! Check out this new subreddit /r/picturesonawall!         So I have some very important text messages on my phone that I need to retrieve as proof for a legal claim. It is one of the evidences I have. Unfortunately, I dropped my phone twice and the screen has shattered and it is no longer responsive. I used Airdroid before, and I can see my text messages there, but I always use the QR code scan and I can't do that anymore. I also have PushBullet which still gives me updates and notifications of my shattered phone on my PC. \n",
      "\n",
      "So, how do I retrieve these important messages when I can't use the phone's touch screen at all? I backed up the photos using a USB cable connecting it to the PC, but that's basically it. Thank you in advance!     To the 175 subscribers of this subreddit, should we do it? I hope you guys won't be oddly depressed about it.. But then that's what we're here for.       \n",
      "\n",
      "\n",
      "post 3:\n",
      "\n",
      "\n",
      "\n",
      "post 4:\n",
      "  [This girl](http://vanniko.tumblr.com/post/133328872813/fuliweb8-%E9%BB%91%E8%A1%A3%E9%BB%91%E4%B8%9D%E5%B0%8F%E5%A6%9E%E5%92%AC%E7%9D%80%E9%BB%91%E8%83%B8%E7%BD%A9%E5%AF%B9%E4%BD%8F%E7%9B%B8%E6%9C%BA%E6%89%A3%E8%B1%86%E8%B1%86%E7%BA%A2%E5%AB%A9%E5%AB%A9%E7%9A%84%E7%9A%AE%E8%82%A4%E7%9C%9F%E6%BB%91). \n",
      "\n",
      "Thanks.  Hey Edwin! Check out this new subreddit /r/picturesonawall!         So I have some very important text messages on my phone that I need to retrieve as proof for a legal claim. It is one of the evidences I have. Unfortunately, I dropped my phone twice and the screen has shattered and it is no longer responsive. I used Airdroid before, and I can see my text messages there, but I always use the QR code scan and I can't do that anymore. I also have PushBullet which still gives me updates and notifications of my shattered phone on my PC. \n",
      "\n",
      "So, how do I retrieve these important messages when I can't use the phone's touch screen at all? I backed up the photos using a USB cable connecting it to the PC, but that's basically it. Thank you in advance!     To the 175 subscribers of this subreddit, should we do it? I hope you guys won't be oddly depressed about it.. But then that's what we're here for.       \n",
      "\n",
      "\n",
      "post 5:\n",
      "I don't know if this happens to most people on keto but my alcohol tolerance has decreased a lot. I mean I was never a huge drinker. I had two gin and tonics yesterday and they hit me hard lol . A couple of months ago two gin and tonics would have been nothing. I wonder why this is? Anyone going through this? My job got Panera for everyone for lunch.... Aka carb central. Lol its funny because once a upon a time I would eat Panera like 2-3 times a week. Those chips are my weakness. Today I walked into the lunch room and just had no interest in any of the carby food but I forgot my lunch sooo... I took a tuna sandwich and only at the tuna and made a side salad and used real mayo as dressing. People treat you the way you let them treat you.... I feel sadness right now and I don't know why. I started crying for no reason. What's wrong with me? French pressed coffee, heavy cream, MCT oil and sugar free syrup ...... Yessszzzzzz! ☕️❤️ I had one mini cupcake (strawberry chocolate) and my body hates me. I haven't had anything like that since I started keto. SOOOOO NOT WORTH IT! It was way to sweet for me while everyone else thought it was just fine. Blah... I make mistakes and I learn. \n",
      "\n",
      "I'm going into my 2nd week of keto. I lost 7.2 lbs.  the first week, probably mostly water weight but it's a start. \n",
      "\n",
      "Has anyone else slipped up? I need stories so I don't feel like a failure lol. I was craving something sweet and I really didn't  have anything at home because I got rid of all the high carb sweet stuff. ( I am new keto, about a week). I don't really have a sweet tooth so when I craved something sweet I was actually kind of shocked. Lol So I whipped some heavy cream with homemade peanut butter and stevia. I ate about half of it before I started to feel sick. I don't know if it was the stevia or what? \n",
      "\n",
      "Does the craving for sweets go away on keto? Bagels are one of my favorite foods. It was sooooo hard to not eat any. This moment just reiterates how addicted to carbs I was and still am. I have only been doing keto for 6 days and I can already tell a difference in my energy level and my appetite. Luckily I meal prepped and had this awesome egg casserole for breakfast. What's a good alternative to bagels that are similar to them but low carb? \n",
      "\n",
      "I don't know about everyone else but I have an issue of not turning down food. It was ingrained into me as a kid that I don't turn down food and I clean my plate. I am slowly trying to retrain my mind to not think like that. \n",
      "\n",
      "Thanks for reading.\n",
      "\n",
      "Anita : ) Today was the first day in a couple of months were I didn't binge eat.  I am pretty much good until I get home from work and then things typically go down hill from there. I am definitely a closet eater. I mostly do it when I am bored or lonely. I changed my eating habits to a keto lifestyle and I can say I feel full longer and it really helps me talk myself out of binge eating. Slowly but surely it won't be such a big stress in my life. I'm still working on the emotional aspects of binge eating too. I write in a journal pretty much every day to help get my feelings out and I am trying to put myself out there more. Today was a good day. 😀😀😊 Hi everyone. I am new to keto and would be interested in any advice you could give me. Also I think I am eating too much cheese... Lol It's in at least 2 of my meals daily. I would love to learn some snack and meal ideas that don't involve cheese.  \n",
      "\n",
      "I haven't had bacon in like 2 years and OMG... I have been missing out. Nomnomnom \n",
      "\n",
      "Anita : ) \n",
      "\n",
      "\n",
      "post 6:\n",
      "I'm 22 years old 5 kids I'm going crazy I feel like im all for me nobody cares about me but me I don't feel love I'm hopeless I so shame of myself I don't think god don't even want to see me im fat, ugly, and unwanted I don't think im wanted I feel left out I'm tired of crying every or day I'm tired of wanting more attention from others the only they probably notice is how fat I am 😭 \n",
      "\n",
      "\n"
     ]
    }
   ],
   "source": [
    "for (N,submit) in enumerate(submit_list):\n",
    "    print \"post \"+str(N+1) +\":\"\n",
    "    print submit[-1]\n",
    "    print \"\\n\""
   ]
  }
 ],
 "metadata": {
  "kernelspec": {
   "display_name": "Python 2",
   "language": "python",
   "name": "python2"
  },
  "language_info": {
   "codemirror_mode": {
    "name": "ipython",
    "version": 2
   },
   "file_extension": ".py",
   "mimetype": "text/x-python",
   "name": "python",
   "nbconvert_exporter": "python",
   "pygments_lexer": "ipython2",
   "version": "2.7.11"
  }
 },
 "nbformat": 4,
 "nbformat_minor": 0
}
