{
 "cells": [
  {
   "cell_type": "code",
   "execution_count": 4,
   "metadata": {
    "collapsed": false
   },
   "outputs": [
    {
     "name": "stdout",
     "output_type": "stream",
     "text": [
      "Populating the interactive namespace from numpy and matplotlib\n"
     ]
    },
    {
     "name": "stderr",
     "output_type": "stream",
     "text": [
      "WARNING: pylab import has clobbered these variables: ['f', 'text']\n",
      "`%matplotlib` prevents importing * from pylab and numpy\n"
     ]
    }
   ],
   "source": [
    "from nltk.tokenize import RegexpTokenizer\n",
    "from nltk.corpus import stopwords\n",
    "from nltk.stem.porter import PorterStemmer\n",
    "from gensim import corpora, models\n",
    "import gensim\n",
    "\n",
    "import matplotlib.pyplot as plt\n",
    "%pylab inline\n",
    "tokenizer = RegexpTokenizer(r'[a-zA-Z]+')\n",
    "\n",
    "# create English stop words list\n",
    "en_stop = set(stopwords.words('english'))\n",
    "\n",
    "# Create p_stemmer of class PorterStemmer\n",
    "p_stemmer = PorterStemmer()"
   ]
  },
  {
   "cell_type": "code",
   "execution_count": 5,
   "metadata": {
    "collapsed": true
   },
   "outputs": [],
   "source": [
    "# create documents\n",
    "depression_set = []\n",
    "for i in xrange(781):\n",
    "    f = open('depress_corpus/corpus_'+str(i))\n",
    "    line = \"\"\n",
    "    for j in f:\n",
    "        line += j.decode('utf-8')\n",
    "    depression_set.append(line)\n",
    "    f.close()\n",
    "control_set = []\n",
    "for i in xrange(824):\n",
    "    f = open('other_corpus/corpus_'+str(i))\n",
    "    line = \"\"\n",
    "    for j in f:\n",
    "        line += j.decode('utf-8')\n",
    "    control_set.append(line)\n",
    "    f.close()\n",
    "doc_set = depression_set + control_set\n",
    "label = [1]*781 + [0]*824"
   ]
  },
  {
   "cell_type": "code",
   "execution_count": 6,
   "metadata": {
    "collapsed": true
   },
   "outputs": [],
   "source": [
    "# list for tokenized documents in loop\n",
    "texts = []\n",
    "# loop through document list\n",
    "for i in doc_set:\n",
    "    # clean and tokenize document string\n",
    "    raw = i.lower()\n",
    "    tokens = tokenizer.tokenize(raw)\n",
    "    # remove stop words from tokens\n",
    "    stopped_tokens = [i for i in tokens if not i in en_stop and len(i)>2]\n",
    "    # stem tokens\n",
    "    stemmed_tokens = [p_stemmer.stem(i) for i in stopped_tokens]\n",
    "    # add tokens to list\n",
    "    texts.append(stemmed_tokens)\n",
    "# turn our tokenized documents into a id <-> term dictionary\n",
    "dictionary = corpora.Dictionary(texts)\n",
    "dictionary.save('BoW.dict')\n",
    "# convert tokenized documents into a document-term matrix\n",
    "corpus = [dictionary.doc2bow(text) for text in texts]"
   ]
  },
  {
   "cell_type": "code",
   "execution_count": 8,
   "metadata": {
    "collapsed": false
   },
   "outputs": [],
   "source": [
    "from scipy.sparse import csr_matrix\n",
    "data = []\n",
    "row = []\n",
    "col = []\n",
    "for (N,c) in enumerate(corpus):\n",
    "    for i in c:\n",
    "        data.append(i[1])\n",
    "        row.append(N)\n",
    "        col.append(i[0])\n",
    "BoW_feature = csr_matrix((data,(row,col))).toarray()"
   ]
  },
  {
   "cell_type": "code",
   "execution_count": 10,
   "metadata": {
    "collapsed": false,
    "scrolled": true
   },
   "outputs": [],
   "source": [
    "TOPIC = 20\n",
    "ldamodel = gensim.models.ldamodel.LdaModel(corpus, num_topics=TOPIC, id2word = dictionary, passes = 10,iterations = 100)\n",
    "ldamodel.save('lda20.model')"
   ]
  },
  {
   "cell_type": "code",
   "execution_count": 13,
   "metadata": {
    "collapsed": false
   },
   "outputs": [],
   "source": [
    "doc_lda = ldamodel[corpus]\n",
    "data = []\n",
    "row = []\n",
    "col = []\n",
    "for (N,doc) in enumerate(doc_lda):\n",
    "    for i in doc:\n",
    "        data.append(i[1])\n",
    "        row.append(N)\n",
    "        col.append(i[0])\n",
    "LDA_feature = csr_matrix((data,(row,col))).toarray()"
   ]
  },
  {
   "cell_type": "code",
   "execution_count": 14,
   "metadata": {
    "collapsed": false
   },
   "outputs": [
    {
     "name": "stdout",
     "output_type": "stream",
     "text": [
      "(1605, 8776)\n",
      "(1605, 20)\n"
     ]
    }
   ],
   "source": [
    "print BoW_feature.shape\n",
    "print LDA_feature.shape"
   ]
  },
  {
   "cell_type": "code",
   "execution_count": 82,
   "metadata": {
    "collapsed": true
   },
   "outputs": [],
   "source": [
    "numpy.save('bow_feature.npy',BoW_feature)\n",
    "numpy.save('lda_feature.npy',LDA_feature)"
   ]
  },
  {
   "cell_type": "code",
   "execution_count": 31,
   "metadata": {
    "collapsed": false
   },
   "outputs": [],
   "source": [
    "from random import shuffle\n",
    "label = numpy.array(label)\n",
    "whole_feature = numpy.hstack((BoW_feature,LDA_feature))\n",
    "random_index = range(BoW_feature.shape[0])"
   ]
  },
  {
   "cell_type": "code",
   "execution_count": 80,
   "metadata": {
    "collapsed": false
   },
   "outputs": [],
   "source": [
    "from sklearn.linear_model import LogisticRegression\n",
    "lda = []\n",
    "bow = []\n",
    "whole = []\n",
    "model = LogisticRegression(C = 0.1)\n",
    "shuffle(random_index)\n",
    "cross_num = int(len(random_index)/10.0)\n",
    "for i in xrange(10):\n",
    "    if i == 0:\n",
    "        train_label = random_index[(cross_num * (i+1)):]\n",
    "    else:\n",
    "        train_label = random_index[0:(cross_num * i)] + random_index[(cross_num * (i+1)):]\n",
    "    test_label = random_index[(cross_num * i):(cross_num * (i+1))]\n",
    "    model.fit(whole_feature[train_label],label[train_label])\n",
    "    p = model.predict(whole_feature[test_label])\n",
    "    whole.append(sum(label[test_label] == p)/float(len(p)))\n",
    "    \n",
    "    model.fit(BoW_feature[train_label],label[train_label])\n",
    "    p = model.predict(BoW_feature[test_label])\n",
    "    bow.append(sum(label[test_label] == p)/float(len(p)))\n",
    "    \n",
    "    model.fit(LDA_feature[train_label],label[train_label])\n",
    "    p = model.predict(LDA_feature[test_label])\n",
    "    lda.append(sum(label[test_label] == p)/float(len(p)))"
   ]
  },
  {
   "cell_type": "code",
   "execution_count": 81,
   "metadata": {
    "collapsed": false
   },
   "outputs": [
    {
     "name": "stdout",
     "output_type": "stream",
     "text": [
      "0.8775\n"
     ]
    },
    {
     "data": {
      "image/png": "[encoded data removed]",
      "text/plain": [
       "<matplotlib.figure.Figure at 0x12f49ac10>"
      ]
     },
     "metadata": {},
     "output_type": "display_data"
    }
   ],
   "source": [
    "p = plt.boxplot((lda,bow,whole),labels=['LDA','BoW','Combination'])\n",
    "print np.mean(whole)"
   ]
  },
  {
   "cell_type": "code",
   "execution_count": 85,
   "metadata": {
    "collapsed": false
   },
   "outputs": [],
   "source": [
    "from sklearn.externals import joblib\n",
    "model.fit(whole_feature,label)\n",
    "_ = joblib.dump(model, 'logistic_regression.model')"
   ]
  },
  {
   "cell_type": "code",
   "execution_count": 87,
   "metadata": {
    "collapsed": false
   },
   "outputs": [
    {
     "data": {
      "text/plain": [
       "gensim.corpora.dictionary.Dictionary"
      ]
     },
     "execution_count": 87,
     "metadata": {},
     "output_type": "execute_result"
    }
   ],
   "source": [
    "type(dictionary)"
   ]
  },
  {
   "cell_type": "code",
   "execution_count": 88,
   "metadata": {
    "collapsed": true
   },
   "outputs": [],
   "source": []
  },
  {
   "cell_type": "code",
   "execution_count": null,
   "metadata": {
    "collapsed": true
   },
   "outputs": [],
   "source": []
  }
 ],
 "metadata": {
  "kernelspec": {
   "display_name": "Python 2",
   "language": "python",
   "name": "python2"
  },
  "language_info": {
   "codemirror_mode": {
    "name": "ipython",
    "version": 2
   },
   "file_extension": ".py",
   "mimetype": "text/x-python",
   "name": "python",
   "nbconvert_exporter": "python",
   "pygments_lexer": "ipython2",
   "version": "2.7.10"
  }
 },
 "nbformat": 4,
 "nbformat_minor": 0
}
